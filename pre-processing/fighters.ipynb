{
 "cells": [
  {
   "cell_type": "markdown",
   "metadata": {},
   "source": [
    "# Pre-process fight data"
   ]
  },
  {
   "cell_type": "code",
   "execution_count": 16,
   "metadata": {},
   "outputs": [],
   "source": [
    "import pandas as pd\n",
    "import numpy as np\n",
    "df_fight = pd.read_csv('./data/data.csv')\n",
    "df_fight_raw = pd.read_csv('./data/raw_total_fight_data.csv', sep=\";\")"
   ]
  },
  {
   "cell_type": "markdown",
   "metadata": {},
   "source": [
    "### Separate red/blue fighter data"
   ]
  },
  {
   "cell_type": "code",
   "execution_count": 17,
   "metadata": {},
   "outputs": [],
   "source": [
    "def create_single_fight_df(pfx, opp_pfx, color, df):\n",
    "    cols_single_fight = [k for k in df.columns if k[:2] != opp_pfx or k == f'{opp_pfx}fighter']\n",
    "    df_single = df.loc[:, cols_single_fight]\n",
    "    df_single.columns = df_single.columns.str.removeprefix(pfx)\n",
    "    df_single.columns = df_single.columns.str.replace(f'{opp_pfx}fighter', 'opponent')\n",
    "    df_single['fighter_color'] = color\n",
    "    df_single['outcome'] = np.where(df_single['Winner'] == color, \"Won\", \"Lost\")\n",
    "    return df_single"
   ]
  },
  {
   "cell_type": "code",
   "execution_count": 18,
   "metadata": {},
   "outputs": [],
   "source": [
    "df_red_fight = create_single_fight_df('R_', 'B_', 'Red', df_fight)\n",
    "df_blue_fight = create_single_fight_df('B_', 'R_', 'Blue', df_fight)"
   ]
  },
  {
   "cell_type": "markdown",
   "metadata": {},
   "source": [
    "### Combine fighter data and write to file"
   ]
  },
  {
   "cell_type": "code",
   "execution_count": 19,
   "metadata": {},
   "outputs": [],
   "source": [
    "df_fight_by_fighters = pd.concat([df_red_fight, df_blue_fight], axis=0).sort_values('date')\n",
    "df_fight_by_fighters = df_fight_by_fighters.sort_values(by=['fighter', 'date'])"
   ]
  },
  {
   "cell_type": "code",
   "execution_count": 20,
   "metadata": {},
   "outputs": [],
   "source": [
    "df_fight_by_fighters.to_csv('../src/data/fight_by_fighters.csv')"
   ]
  },
  {
   "cell_type": "markdown",
   "metadata": {},
   "source": [
    "### Create index of fighters based on those in data set"
   ]
  },
  {
   "cell_type": "code",
   "execution_count": 21,
   "metadata": {},
   "outputs": [],
   "source": [
    "df_fighters_list = df_fight_by_fighters.copy().drop_duplicates(subset='fighter', keep=\"last\")"
   ]
  },
  {
   "cell_type": "code",
   "execution_count": 22,
   "metadata": {},
   "outputs": [],
   "source": [
    "df_fighters_list.to_csv('../src/data/fighters_list.csv')"
   ]
  }
 ],
 "metadata": {
  "kernelspec": {
   "display_name": "Python 3.9.13 64-bit (microsoft store)",
   "language": "python",
   "name": "python3"
  },
  "language_info": {
   "codemirror_mode": {
    "name": "ipython",
    "version": 3
   },
   "file_extension": ".py",
   "mimetype": "text/x-python",
   "name": "python",
   "nbconvert_exporter": "python",
   "pygments_lexer": "ipython3",
   "version": "3.9.13"
  },
  "orig_nbformat": 4,
  "vscode": {
   "interpreter": {
    "hash": "56f97a71b89e05d6ccf73f1f0e2d9d243a3b4ed7741d25bc67a23080ab6402df"
   }
  }
 },
 "nbformat": 4,
 "nbformat_minor": 2
}
