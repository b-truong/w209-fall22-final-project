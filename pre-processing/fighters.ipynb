{
 "cells": [
  {
   "cell_type": "markdown",
   "metadata": {},
   "source": [
    "# Pre-process fight data"
   ]
  },
  {
   "cell_type": "code",
   "execution_count": 1,
   "metadata": {},
   "outputs": [],
   "source": [
    "import pandas as pd\n",
    "import numpy as np\n",
    "df_fight = pd.read_csv('./data/data.csv')"
   ]
  },
  {
   "cell_type": "markdown",
   "metadata": {},
   "source": [
    "### Separate red fighter data"
   ]
  },
  {
   "cell_type": "code",
   "execution_count": 2,
   "metadata": {},
   "outputs": [],
   "source": [
    "cols_red_fight = [k for k in df_fight.columns if k[:2] != 'B_' or k == 'B_fighter']\n",
    "df_red_fight = df_fight.loc[:, cols_red_fight]\n",
    "df_red_fight.columns = df_red_fight.columns.str.removeprefix('R_')\n",
    "df_red_fight.columns = df_red_fight.columns.str.replace('B_fighter', 'opponent')\n",
    "df_red_fight['fighter_color'] = 'Red'\n",
    "df_red_fight['outcome'] = np.where(df_red_fight['Winner'] == \"Red\", \"Won\", \"Lost\")"
   ]
  },
  {
   "cell_type": "markdown",
   "metadata": {},
   "source": [
    "### Separate blue fighter data"
   ]
  },
  {
   "cell_type": "code",
   "execution_count": 3,
   "metadata": {},
   "outputs": [],
   "source": [
    "cols_blue_fight = [k for k in df_fight.columns if k[:2] != 'R_' or k == 'R_fighter']\n",
    "df_blue_fight = df_fight.loc[:, cols_blue_fight]\n",
    "df_blue_fight.columns = df_blue_fight.columns.str.removeprefix('B_')\n",
    "df_blue_fight.columns = df_blue_fight.columns.str.replace('R_fighter', 'opponent')\n",
    "df_blue_fight['fighter_color'] = 'Blue'\n",
    "df_blue_fight['outcome'] = np.where(df_blue_fight['Winner'] == \"Blue\", \"Won\", \"Lost\")"
   ]
  },
  {
   "cell_type": "markdown",
   "metadata": {},
   "source": [
    "### Combine fighter data and write to file"
   ]
  },
  {
   "cell_type": "code",
   "execution_count": 4,
   "metadata": {},
   "outputs": [],
   "source": [
    "df_fight_by_fighters = pd.concat([df_red_fight, df_blue_fight], axis=0).sort_values('date')\n",
    "df_fight_by_fighters = df_fight_by_fighters.sort_values(by=['fighter', 'date'])"
   ]
  },
  {
   "cell_type": "code",
   "execution_count": 5,
   "metadata": {},
   "outputs": [],
   "source": [
    "df_fight_by_fighters.to_csv('../src/data/fight_by_fighters.csv')"
   ]
  },
  {
   "cell_type": "markdown",
   "metadata": {},
   "source": [
    "### Create index of fighters based on those in data set"
   ]
  },
  {
   "cell_type": "code",
   "execution_count": 6,
   "metadata": {},
   "outputs": [],
   "source": [
    "df_fighters_list = df_fight_by_fighters.copy().drop_duplicates(subset='fighter', keep=\"last\")"
   ]
  },
  {
   "cell_type": "code",
   "execution_count": 7,
   "metadata": {},
   "outputs": [],
   "source": [
    "df_fighters_list.to_csv('../src/data/fighters_list.csv')"
   ]
  }
 ],
 "metadata": {
  "kernelspec": {
   "display_name": "Python 3.9.13 64-bit (microsoft store)",
   "language": "python",
   "name": "python3"
  },
  "language_info": {
   "codemirror_mode": {
    "name": "ipython",
    "version": 3
   },
   "file_extension": ".py",
   "mimetype": "text/x-python",
   "name": "python",
   "nbconvert_exporter": "python",
   "pygments_lexer": "ipython3",
   "version": "3.9.13"
  },
  "orig_nbformat": 4,
  "vscode": {
   "interpreter": {
    "hash": "56f97a71b89e05d6ccf73f1f0e2d9d243a3b4ed7741d25bc67a23080ab6402df"
   }
  }
 },
 "nbformat": 4,
 "nbformat_minor": 2
}
