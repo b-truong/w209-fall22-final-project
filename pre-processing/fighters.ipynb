{
 "cells": [
  {
   "cell_type": "markdown",
   "metadata": {},
   "source": [
    "# Pre-process fight data"
   ]
  },
  {
   "cell_type": "code",
   "execution_count": 14,
   "metadata": {},
   "outputs": [],
   "source": [
    "import pandas as pd\n",
    "import numpy as np\n",
    "import datetime as dt\n",
    "\n",
    "df_fight = pd.read_csv('./data/data.csv')\n",
    "df_fight_raw = pd.read_csv('./data/raw_total_fight_data.csv', sep=\";\")"
   ]
  },
  {
   "cell_type": "markdown",
   "metadata": {},
   "source": [
    "## Separate fight data to only contain information for single fighter"
   ]
  },
  {
   "cell_type": "markdown",
   "metadata": {},
   "source": [
    "### Separate red/blue fighter data"
   ]
  },
  {
   "cell_type": "code",
   "execution_count": 15,
   "metadata": {},
   "outputs": [],
   "source": [
    "def create_single_fight_df(pfx, opp_pfx, color, df):\n",
    "    cols_single_fight = [k for k in df.columns if k[:2] != opp_pfx or k == f'{opp_pfx}fighter'] # Keep only single fighter data\n",
    "    df_single = df.loc[:, cols_single_fight]\n",
    "    df_single.columns = df_single.columns.str.removeprefix(pfx)\n",
    "    df_single.columns = df_single.columns.str.replace(f'{opp_pfx}fighter', 'opponent')\n",
    "    df_single['fighter_color'] = color\n",
    "    df_single['outcome'] = np.where(df_single['Winner'] == color, \"Won\", \"Lost\")\n",
    "    return df_single"
   ]
  },
  {
   "cell_type": "code",
   "execution_count": 16,
   "metadata": {},
   "outputs": [],
   "source": [
    "df_red_fight = create_single_fight_df('R_', 'B_', 'Red', df_fight)\n",
    "df_blue_fight = create_single_fight_df('B_', 'R_', 'Blue', df_fight)"
   ]
  },
  {
   "cell_type": "markdown",
   "metadata": {},
   "source": [
    "### Combine fighter data and write to file"
   ]
  },
  {
   "cell_type": "code",
   "execution_count": 17,
   "metadata": {},
   "outputs": [],
   "source": [
    "df_fight_by_fighters = pd.concat([df_red_fight, df_blue_fight], axis=0)\n",
    "df_fight_by_fighters = df_fight_by_fighters.sort_values(by=['fighter', 'date'])"
   ]
  },
  {
   "cell_type": "code",
   "execution_count": 18,
   "metadata": {},
   "outputs": [],
   "source": [
    "df_fight_by_fighters.to_csv('../src/data/fight_by_fighters.csv', index=False)"
   ]
  },
  {
   "cell_type": "markdown",
   "metadata": {},
   "source": [
    "### Create index of fighters based on those in data set"
   ]
  },
  {
   "cell_type": "code",
   "execution_count": 19,
   "metadata": {},
   "outputs": [],
   "source": [
    "df_fighters_list = df_fight_by_fighters.copy().drop_duplicates(subset='fighter', keep=\"last\")"
   ]
  },
  {
   "cell_type": "code",
   "execution_count": 20,
   "metadata": {},
   "outputs": [],
   "source": [
    "df_fighters_list.to_csv('../src/data/fighters_list.csv', index=False)"
   ]
  },
  {
   "cell_type": "markdown",
   "metadata": {},
   "source": [
    "## Parse significant strikes from raw fight data"
   ]
  },
  {
   "cell_type": "markdown",
   "metadata": {},
   "source": [
    "### Separate each fight into rows for each fighter"
   ]
  },
  {
   "cell_type": "code",
   "execution_count": 21,
   "metadata": {},
   "outputs": [],
   "source": [
    "# Post-processed metadata columns to keep\n",
    "cols_meta = [\n",
    "    'fighter',\n",
    "    'opponent_fighter',\n",
    "    'date'\n",
    "]\n",
    "\n",
    "# Post-processed strike columns to keep\n",
    "cols_str = [\n",
    "    'sig_str',\n",
    "    'opponent_sig_str',\n",
    "    'total_str',\n",
    "    'opponent_total_str', \n",
    "    'td',\n",
    "    'opponent_td',\n",
    "    'head',\n",
    "    'opponent_head',\n",
    "    'body',\n",
    "    'opponent_body',\n",
    "    'leg',\n",
    "    'opponent_leg',\n",
    "    'distance',\n",
    "    'opponent_distance',\n",
    "    'clinch',\n",
    "    'opponent_clinch',\n",
    "    'ground',\n",
    "    'opponent_ground'\n",
    "]\n",
    "\n",
    "def create_fight_str_df(pfx, opp_pfx, color, df):\n",
    "    df_fight = df.copy()\n",
    "\n",
    "    df_fight.columns = df_fight.columns.str.removeprefix(pfx)\n",
    "    df_fight.columns = df_fight.columns.str.removesuffix('.') # Remove periods from column names\n",
    "    df_fight.columns = df_fight.columns.str.replace(f'{opp_pfx}', 'opponent_')\n",
    "    df_fight.columns = df_fight.columns.str.lower()\n",
    "\n",
    "    df_fight['fighter_color'] = color\n",
    "    \n",
    "    df_fight = df_fight.loc[:, [*cols_meta, *cols_str]]\n",
    "    return df_fight"
   ]
  },
  {
   "cell_type": "code",
   "execution_count": 22,
   "metadata": {},
   "outputs": [],
   "source": [
    "df_red_fight_str = create_fight_str_df('R_', 'B_', 'Red', df_fight_raw)\n",
    "df_blue_fight_str = create_fight_str_df('B_', 'R_', 'Blue', df_fight_raw)\n",
    "\n",
    "df_fight_str = pd.concat([df_red_fight_str, df_blue_fight_str], axis=0)\n",
    "df_fight_str = df_fight_str.sort_values(by=['fighter', 'date'])"
   ]
  },
  {
   "cell_type": "markdown",
   "metadata": {},
   "source": [
    "### Parse date"
   ]
  },
  {
   "cell_type": "code",
   "execution_count": 23,
   "metadata": {},
   "outputs": [],
   "source": [
    "df_fight_str['date'] = df_fight_str['date'].map(lambda cell: dt.datetime.strptime(cell, '%B %d, %Y'))"
   ]
  },
  {
   "cell_type": "markdown",
   "metadata": {},
   "source": [
    "### Parse strike columns into successful, unsuccessful, and attempts"
   ]
  },
  {
   "cell_type": "code",
   "execution_count": 24,
   "metadata": {},
   "outputs": [],
   "source": [
    "cols_str_with_attempts = []\n",
    "for col in cols_str:\n",
    "    df_fight_str[f'{col}_attempts'] = df_fight_str[col].map(lambda cell: int(cell.split(' of ')[1]))\n",
    "    df_fight_str[col] = df_fight_str[col].map(lambda cell: int(cell.split(' of ')[0]))\n",
    "    df_fight_str[f'{col}_misses'] = df_fight_str[f'{col}_attempts'] - df_fight_str[col]\n",
    "    cols_str_with_attempts.extend([col, f'{col}_misses', f'{col}_attempts'])\n",
    "\n",
    "df_fight_str = df_fight_str[[*cols_meta, *cols_str_with_attempts]]"
   ]
  },
  {
   "cell_type": "code",
   "execution_count": 25,
   "metadata": {},
   "outputs": [],
   "source": [
    "df_fight_str.to_csv('../src/data/fight_str.csv', index=False)"
   ]
  },
  {
   "cell_type": "markdown",
   "metadata": {},
   "source": [
    "## Separate fight data to only contain information for single fighter for latest fighter stats"
   ]
  },
  {
   "cell_type": "markdown",
   "metadata": {},
   "source": [
    "### Separate red/blue fighter data"
   ]
  },
  {
   "cell_type": "code",
   "execution_count": null,
   "metadata": {},
   "outputs": [],
   "source": [
    "def create_single_fight_df(pfx, opp_pfx, color, df):\n",
    "    cols_single_fight = [k for k in df.columns if k[:2] != opp_pfx or k == f'{opp_pfx}fighter'] # Exclude opponent data\n",
    "    df_single = df.loc[:, cols_single_fight]\n",
    "    df_single.columns = df_single.columns.str.removeprefix(pfx)\n",
    "    df_single.columns = df_single.columns.str.replace(f'{opp_pfx}fighter', 'opponent')\n",
    "    df_single['fighter_color'] = color\n",
    "    df_single['outcome'] = np.where(df_single['Winner'] == color, \"Won\", \"Lost\")\n",
    "    return df_single"
   ]
  },
  {
   "cell_type": "code",
   "execution_count": null,
   "metadata": {},
   "outputs": [],
   "source": [
    "df_red_fight = create_single_fight_df('R_', 'B_', 'Red', df_fight)\n",
    "df_blue_fight = create_single_fight_df('B_', 'R_', 'Blue', df_fight)"
   ]
  },
  {
   "cell_type": "markdown",
   "metadata": {},
   "source": [
    "### Combine fighter data and write to file"
   ]
  },
  {
   "cell_type": "code",
   "execution_count": null,
   "metadata": {},
   "outputs": [],
   "source": [
    "df_fight_by_fighters = pd.concat([df_red_fight, df_blue_fight], axis=0)\n",
    "df_fight_by_fighters = df_fight_by_fighters.sort_values(by=['fighter', 'date'])"
   ]
  },
  {
   "cell_type": "code",
   "execution_count": null,
   "metadata": {},
   "outputs": [],
   "source": [
    "df_fight_by_fighters.to_csv('../src/data/fight_by_fighters.csv', index=False)"
   ]
  },
  {
   "cell_type": "markdown",
   "metadata": {},
   "source": [
    "### Create index of fighters based on those in data set"
   ]
  },
  {
   "cell_type": "code",
   "execution_count": null,
   "metadata": {},
   "outputs": [],
   "source": [
    "df_fighters_list = df_fight_by_fighters.copy().drop_duplicates(subset='fighter', keep=\"last\")"
   ]
  },
  {
   "cell_type": "code",
   "execution_count": null,
   "metadata": {},
   "outputs": [],
   "source": [
    "df_fighters_list.to_csv('../src/data/latest_fighter_stats.csv', index=False)"
   ]
  }
 ],
 "metadata": {
  "kernelspec": {
   "display_name": "Python 3.9.13 64-bit (microsoft store)",
   "language": "python",
   "name": "python3"
  },
  "language_info": {
   "codemirror_mode": {
    "name": "ipython",
    "version": 3
   },
   "file_extension": ".py",
   "mimetype": "text/x-python",
   "name": "python",
   "nbconvert_exporter": "python",
   "pygments_lexer": "ipython3",
   "version": "3.9.13"
  },
  "orig_nbformat": 4,
  "vscode": {
   "interpreter": {
    "hash": "56f97a71b89e05d6ccf73f1f0e2d9d243a3b4ed7741d25bc67a23080ab6402df"
   }
  }
 },
 "nbformat": 4,
 "nbformat_minor": 2
}
