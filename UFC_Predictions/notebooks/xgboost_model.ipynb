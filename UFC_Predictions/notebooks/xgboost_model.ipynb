{
 "cells": [
  {
   "cell_type": "code",
   "execution_count": 1,
   "metadata": {},
   "outputs": [],
   "source": [
    "import pandas as pd\n",
    "import numpy as np\n",
    "import matplotlib.pyplot as plt\n",
    "import pickle\n",
    "from xgboost import XGBClassifier\n",
    "from sklearn.preprocessing import LabelEncoder\n",
    "import xgboost as xgb\n",
    "from sklearn.model_selection import train_test_split\n",
    "from sklearn.preprocessing import StandardScaler\n",
    "from sklearn.metrics import accuracy_score, classification_report,confusion_matrix, roc_auc_score\n",
    "from sklearn.utils.multiclass import unique_labels\n",
    "from sklearn.model_selection import GridSearchCV, RandomizedSearchCV\n",
    "import seaborn as sns\n",
    "\n",
    "%matplotlib inline\n"
   ]
  },
  {
   "cell_type": "code",
   "execution_count": 2,
   "metadata": {},
   "outputs": [],
   "source": [
    "df = pd.read_csv('../data/preprocessed_data.csv')"
   ]
  },
  {
   "cell_type": "code",
   "execution_count": 3,
   "metadata": {},
   "outputs": [
    {
     "data": {
      "text/html": [
       "<div>\n",
       "<style scoped>\n",
       "    .dataframe tbody tr th:only-of-type {\n",
       "        vertical-align: middle;\n",
       "    }\n",
       "\n",
       "    .dataframe tbody tr th {\n",
       "        vertical-align: top;\n",
       "    }\n",
       "\n",
       "    .dataframe thead th {\n",
       "        text-align: right;\n",
       "    }\n",
       "</style>\n",
       "<table border=\"1\" class=\"dataframe\">\n",
       "  <thead>\n",
       "    <tr style=\"text-align: right;\">\n",
       "      <th></th>\n",
       "      <th>Winner</th>\n",
       "      <th>title_bout</th>\n",
       "      <th>no_of_rounds</th>\n",
       "      <th>B_avg_KD</th>\n",
       "      <th>B_avg_opp_KD</th>\n",
       "      <th>B_avg_SIG_STR_pct</th>\n",
       "      <th>B_avg_opp_SIG_STR_pct</th>\n",
       "      <th>B_avg_TD_pct</th>\n",
       "      <th>B_avg_opp_TD_pct</th>\n",
       "      <th>B_avg_SUB_ATT</th>\n",
       "      <th>...</th>\n",
       "      <th>B_Stance_Open Stance</th>\n",
       "      <th>B_Stance_Orthodox</th>\n",
       "      <th>B_Stance_Sideways</th>\n",
       "      <th>B_Stance_Southpaw</th>\n",
       "      <th>B_Stance_Switch</th>\n",
       "      <th>R_Stance_Open Stance</th>\n",
       "      <th>R_Stance_Orthodox</th>\n",
       "      <th>R_Stance_Sideways</th>\n",
       "      <th>R_Stance_Southpaw</th>\n",
       "      <th>R_Stance_Switch</th>\n",
       "    </tr>\n",
       "  </thead>\n",
       "  <tbody>\n",
       "    <tr>\n",
       "      <th>0</th>\n",
       "      <td>Red</td>\n",
       "      <td>False</td>\n",
       "      <td>3</td>\n",
       "      <td>0.000000</td>\n",
       "      <td>0.0</td>\n",
       "      <td>0.420000</td>\n",
       "      <td>0.49500</td>\n",
       "      <td>0.330</td>\n",
       "      <td>0.36000</td>\n",
       "      <td>0.500000</td>\n",
       "      <td>...</td>\n",
       "      <td>0</td>\n",
       "      <td>1</td>\n",
       "      <td>0</td>\n",
       "      <td>0</td>\n",
       "      <td>0</td>\n",
       "      <td>0</td>\n",
       "      <td>1</td>\n",
       "      <td>0</td>\n",
       "      <td>0</td>\n",
       "      <td>0</td>\n",
       "    </tr>\n",
       "    <tr>\n",
       "      <th>1</th>\n",
       "      <td>Red</td>\n",
       "      <td>False</td>\n",
       "      <td>3</td>\n",
       "      <td>0.500000</td>\n",
       "      <td>0.0</td>\n",
       "      <td>0.660000</td>\n",
       "      <td>0.30500</td>\n",
       "      <td>0.300</td>\n",
       "      <td>0.50000</td>\n",
       "      <td>1.500000</td>\n",
       "      <td>...</td>\n",
       "      <td>0</td>\n",
       "      <td>1</td>\n",
       "      <td>0</td>\n",
       "      <td>0</td>\n",
       "      <td>0</td>\n",
       "      <td>0</td>\n",
       "      <td>1</td>\n",
       "      <td>0</td>\n",
       "      <td>0</td>\n",
       "      <td>0</td>\n",
       "    </tr>\n",
       "    <tr>\n",
       "      <th>2</th>\n",
       "      <td>Red</td>\n",
       "      <td>False</td>\n",
       "      <td>3</td>\n",
       "      <td>0.015625</td>\n",
       "      <td>0.0</td>\n",
       "      <td>0.450000</td>\n",
       "      <td>0.42750</td>\n",
       "      <td>0.250</td>\n",
       "      <td>0.20000</td>\n",
       "      <td>0.148468</td>\n",
       "      <td>...</td>\n",
       "      <td>0</td>\n",
       "      <td>1</td>\n",
       "      <td>0</td>\n",
       "      <td>0</td>\n",
       "      <td>0</td>\n",
       "      <td>0</td>\n",
       "      <td>0</td>\n",
       "      <td>0</td>\n",
       "      <td>1</td>\n",
       "      <td>0</td>\n",
       "    </tr>\n",
       "    <tr>\n",
       "      <th>3</th>\n",
       "      <td>Blue</td>\n",
       "      <td>False</td>\n",
       "      <td>3</td>\n",
       "      <td>0.015625</td>\n",
       "      <td>0.0</td>\n",
       "      <td>0.450000</td>\n",
       "      <td>0.42750</td>\n",
       "      <td>0.250</td>\n",
       "      <td>0.20000</td>\n",
       "      <td>0.148468</td>\n",
       "      <td>...</td>\n",
       "      <td>0</td>\n",
       "      <td>0</td>\n",
       "      <td>0</td>\n",
       "      <td>1</td>\n",
       "      <td>0</td>\n",
       "      <td>0</td>\n",
       "      <td>0</td>\n",
       "      <td>0</td>\n",
       "      <td>0</td>\n",
       "      <td>1</td>\n",
       "    </tr>\n",
       "    <tr>\n",
       "      <th>4</th>\n",
       "      <td>Blue</td>\n",
       "      <td>False</td>\n",
       "      <td>3</td>\n",
       "      <td>0.125000</td>\n",
       "      <td>0.0</td>\n",
       "      <td>0.535625</td>\n",
       "      <td>0.57875</td>\n",
       "      <td>0.185</td>\n",
       "      <td>0.16625</td>\n",
       "      <td>0.125000</td>\n",
       "      <td>...</td>\n",
       "      <td>0</td>\n",
       "      <td>1</td>\n",
       "      <td>0</td>\n",
       "      <td>0</td>\n",
       "      <td>0</td>\n",
       "      <td>0</td>\n",
       "      <td>1</td>\n",
       "      <td>0</td>\n",
       "      <td>0</td>\n",
       "      <td>0</td>\n",
       "    </tr>\n",
       "  </tbody>\n",
       "</table>\n",
       "<p>5 rows × 161 columns</p>\n",
       "</div>"
      ],
      "text/plain": [
       "  Winner  title_bout  no_of_rounds  B_avg_KD  B_avg_opp_KD  B_avg_SIG_STR_pct  \\\n",
       "0    Red       False             3  0.000000           0.0           0.420000   \n",
       "1    Red       False             3  0.500000           0.0           0.660000   \n",
       "2    Red       False             3  0.015625           0.0           0.450000   \n",
       "3   Blue       False             3  0.015625           0.0           0.450000   \n",
       "4   Blue       False             3  0.125000           0.0           0.535625   \n",
       "\n",
       "   B_avg_opp_SIG_STR_pct  B_avg_TD_pct  B_avg_opp_TD_pct  B_avg_SUB_ATT  ...  \\\n",
       "0                0.49500         0.330           0.36000       0.500000  ...   \n",
       "1                0.30500         0.300           0.50000       1.500000  ...   \n",
       "2                0.42750         0.250           0.20000       0.148468  ...   \n",
       "3                0.42750         0.250           0.20000       0.148468  ...   \n",
       "4                0.57875         0.185           0.16625       0.125000  ...   \n",
       "\n",
       "   B_Stance_Open Stance  B_Stance_Orthodox  B_Stance_Sideways  \\\n",
       "0                     0                  1                  0   \n",
       "1                     0                  1                  0   \n",
       "2                     0                  1                  0   \n",
       "3                     0                  0                  0   \n",
       "4                     0                  1                  0   \n",
       "\n",
       "   B_Stance_Southpaw  B_Stance_Switch  R_Stance_Open Stance  \\\n",
       "0                  0                0                     0   \n",
       "1                  0                0                     0   \n",
       "2                  0                0                     0   \n",
       "3                  1                0                     0   \n",
       "4                  0                0                     0   \n",
       "\n",
       "   R_Stance_Orthodox  R_Stance_Sideways  R_Stance_Southpaw  R_Stance_Switch  \n",
       "0                  1                  0                  0                0  \n",
       "1                  1                  0                  0                0  \n",
       "2                  0                  0                  1                0  \n",
       "3                  0                  0                  0                1  \n",
       "4                  1                  0                  0                0  \n",
       "\n",
       "[5 rows x 161 columns]"
      ]
     },
     "execution_count": 3,
     "metadata": {},
     "output_type": "execute_result"
    }
   ],
   "source": [
    "df.head()"
   ]
  },
  {
   "cell_type": "markdown",
   "metadata": {},
   "source": [
    "### Normalizing data"
   ]
  },
  {
   "cell_type": "code",
   "execution_count": 4,
   "metadata": {},
   "outputs": [
    {
     "name": "stderr",
     "output_type": "stream",
     "text": [
      "/tmp/ipykernel_270/2312945583.py:1: DeprecationWarning: `np.float` is a deprecated alias for the builtin `float`. To silence this warning, use `float` by itself. Doing this will not modify any behavior and is safe. If you specifically wanted the numpy scalar type, use `np.float64` here.\n",
      "Deprecated in NumPy 1.20; for more details and guidance: https://numpy.org/devdocs/release/1.20.0-notes.html#deprecations\n",
      "  df_num = df.select_dtypes(include=[np.float, np.int])\n",
      "/tmp/ipykernel_270/2312945583.py:1: DeprecationWarning: `np.int` is a deprecated alias for the builtin `int`. To silence this warning, use `int` by itself. Doing this will not modify any behavior and is safe. When replacing `np.int`, you may wish to use e.g. `np.int64` or `np.int32` to specify the precision. If you wish to review your current use, check the release note link for additional information.\n",
      "Deprecated in NumPy 1.20; for more details and guidance: https://numpy.org/devdocs/release/1.20.0-notes.html#deprecations\n",
      "  df_num = df.select_dtypes(include=[np.float, np.int])\n"
     ]
    }
   ],
   "source": [
    "df_num = df.select_dtypes(include=[np.float, np.int])"
   ]
  },
  {
   "cell_type": "code",
   "execution_count": 5,
   "metadata": {},
   "outputs": [],
   "source": [
    "scaler = StandardScaler()\n",
    "\n",
    "df[list(df_num.columns)] = scaler.fit_transform(df[list(df_num.columns)])"
   ]
  },
  {
   "cell_type": "markdown",
   "metadata": {},
   "source": [
    "### Splitting into train, test"
   ]
  },
  {
   "cell_type": "code",
   "execution_count": 6,
   "metadata": {},
   "outputs": [],
   "source": [
    "y = df['Winner']\n",
    "label_encoder = LabelEncoder()\n",
    "label_encoder = label_encoder.fit(y)\n",
    "label_encoded_y = label_encoder.transform(y)\n",
    "\n",
    "X = df.drop(columns = 'Winner')\n",
    "\n",
    "X_train, X_test, y_train, y_test = train_test_split(X, label_encoded_y, test_size=0.1, random_state=41)"
   ]
  },
  {
   "cell_type": "markdown",
   "metadata": {},
   "source": [
    "### Fitting baseline Xgboost"
   ]
  },
  {
   "cell_type": "code",
   "execution_count": 7,
   "metadata": {},
   "outputs": [],
   "source": [
    "def plot_confusion(cm):\n",
    "    ax = sns.heatmap(cm, annot=True, cmap='Blues', fmt='g')\n",
    "    ax.set_title('Seaborn Confusion Matrix with labels\\n\\n');\n",
    "    ax.set_xlabel('\\nPredicted Values')\n",
    "    ax.set_ylabel('Actual Values ');\n",
    "\n",
    "    ## Ticket labels - List must be in alphabetical order\n",
    "    ax.xaxis.set_ticklabels(['False','True'])\n",
    "    ax.yaxis.set_ticklabels(['False','True'])\n",
    "    ax.set_ylim([0,2])\n",
    "\n",
    "    ## Display the visualization of the Confusion Matrix.\n",
    "    ax.invert_yaxis()\n",
    "    plt.show()\n",
    "    "
   ]
  },
  {
   "cell_type": "code",
   "execution_count": 8,
   "metadata": {},
   "outputs": [],
   "source": [
    "def modelfit(alg, X_train, y_train, X_test, y_test, useTrainCV=True, cv_folds=5, early_stopping_rounds=50):\n",
    "    \n",
    "    if useTrainCV:\n",
    "        xgb_param = alg.get_xgb_params()\n",
    "        xgtrain = xgb.DMatrix(X_train, label=y_train)\n",
    "        cvresult = xgb.cv(xgb_param, xgtrain, num_boost_round=alg.get_params()['n_estimators'], nfold=cv_folds,\n",
    "            metrics='auc', early_stopping_rounds=early_stopping_rounds)\n",
    "        alg.set_params(n_estimators=cvresult.shape[0])\n",
    "        print(f\"Best number of estimators = {cvresult.shape[0]}\")\n",
    "    \n",
    "    #Fit the algorithm on the data\n",
    "    alg.fit(np.array(X_train), np.array(y_train), eval_metric='auc')\n",
    "    \n",
    "    #Predict train set:\n",
    "    dtrain_predictions = alg.predict(np.array(X_train))\n",
    "    dtrain_predprob = alg.predict_proba(np.array(X_train))[:,1]\n",
    "        \n",
    "    #Predict test set:\n",
    "    dtest_predictions = alg.predict(np.array(X_test))\n",
    "    dtest_predprob = alg.predict_proba(np.array(X_test))[:,1]\n",
    "        \n",
    "    #Print model report:\n",
    "    print(\"\\nModel Report: \")\n",
    "    print(f\"Accuracy (Test): {accuracy_score(y_test, dtest_predictions):.4f}\")\n",
    "#     print(f\"AUC Score (Train): {roc_auc_score(y_train, dtrain_predprob)}\")\n",
    "    print(f\"AUC Score (Test): {roc_auc_score(y_test, dtest_predprob):.4f}\")\n",
    "    \n",
    "    \n",
    "    return dtest_predictions"
   ]
  },
  {
   "cell_type": "code",
   "execution_count": 9,
   "metadata": {},
   "outputs": [
    {
     "name": "stdout",
     "output_type": "stream",
     "text": [
      "Best number of estimators = 17\n"
     ]
    },
    {
     "name": "stderr",
     "output_type": "stream",
     "text": [
      "/home/shreysinghal/anaconda3/lib/python3.9/site-packages/xgboost/sklearn.py:861: UserWarning: `eval_metric` in `fit` method is deprecated for better compatibility with scikit-learn, use `eval_metric` in constructor or`set_params` instead.\n",
      "  warnings.warn(\n"
     ]
    },
    {
     "name": "stdout",
     "output_type": "stream",
     "text": [
      "\n",
      "Model Report: \n",
      "Accuracy (Test): 0.6870\n",
      "AUC Score (Test): 0.6891\n"
     ]
    },
    {
     "data": {
      "image/png": "[encoded data removed]",
      "text/plain": [
       "<Figure size 432x288 with 2 Axes>"
      ]
     },
     "metadata": {
      "needs_background": "light"
     },
     "output_type": "display_data"
    }
   ],
   "source": [
    "model1 = XGBClassifier(random_state=43, n_jobs=-1)\n",
    "\n",
    "y1_preds = modelfit(model1, X_train, y_train, X_test, y_test)\n",
    "\n",
    "cm = confusion_matrix(y_test, y1_preds)\n",
    "\n",
    "plot_confusion(cm)"
   ]
  },
  {
   "cell_type": "code",
   "execution_count": 10,
   "metadata": {},
   "outputs": [
    {
     "data": {
      "text/plain": [
       "[('B_avg_SIG_STR_att', 0.03092865),\n",
       " ('R_avg_opp_DISTANCE_landed', 0.024767656),\n",
       " ('no_of_rounds', 0.015809765),\n",
       " ('B_longest_win_streak', 0.014470739),\n",
       " ('R_avg_KD', 0.014388977),\n",
       " ('R_age', 0.013828994),\n",
       " ('B_avg_HEAD_landed', 0.012891979),\n",
       " ('R_avg_opp_HEAD_landed', 0.0123731205),\n",
       " ('R_avg_GROUND_landed', 0.011451003),\n",
       " ('B_age', 0.010956818),\n",
       " ('B_Weight_lbs', 0.010497384),\n",
       " ('B_avg_opp_SIG_STR_landed', 0.0104088485),\n",
       " ('R_current_lose_streak', 0.010387964),\n",
       " ('R_Stance_Southpaw', 0.010275586),\n",
       " ('B_avg_opp_TOTAL_STR_landed', 0.010268753),\n",
       " ('B_avg_opp_BODY_landed', 0.01019563),\n",
       " ('B_Reach_cms', 0.010151152),\n",
       " ('B_avg_TD_landed', 0.010079242),\n",
       " ('R_losses', 0.009941681),\n",
       " ('B_total_title_bouts', 0.009762484),\n",
       " ('R_avg_opp_SIG_STR_pct', 0.009688285),\n",
       " ('R_Weight_lbs', 0.009683401),\n",
       " ('B_avg_HEAD_att', 0.009589913),\n",
       " ('B_avg_opp_DISTANCE_att', 0.009352352),\n",
       " ('B_avg_opp_SIG_STR_att', 0.009180253),\n",
       " ('B_avg_opp_HEAD_landed', 0.009143409),\n",
       " ('R_win_by_Decision_Split', 0.009112407),\n",
       " ('B_avg_DISTANCE_landed', 0.009061644),\n",
       " ('R_avg_TD_landed', 0.008996766),\n",
       " ('B_Stance_Orthodox', 0.008877508),\n",
       " ('B_avg_opp_HEAD_att', 0.00868995),\n",
       " ('R_current_win_streak', 0.0085414015),\n",
       " ('R_avg_GROUND_att', 0.008536374),\n",
       " ('B_total_rounds_fought', 0.0084386105),\n",
       " ('R_win_by_Decision_Unanimous', 0.008383245),\n",
       " ('R_avg_opp_HEAD_att', 0.008377238),\n",
       " ('B_avg_DISTANCE_att', 0.008355651),\n",
       " ('R_avg_TD_pct', 0.008300584),\n",
       " ('R_total_time_fought(seconds)', 0.008295785),\n",
       " ('R_avg_opp_DISTANCE_att', 0.008265976),\n",
       " ('B_avg_LEG_att', 0.008253437),\n",
       " ('R_avg_CLINCH_att', 0.008233306),\n",
       " ('R_avg_SUB_ATT', 0.008151829),\n",
       " ('R_avg_opp_TOTAL_STR_landed', 0.00814251),\n",
       " ('B_avg_BODY_att', 0.008023619),\n",
       " ('R_avg_opp_SUB_ATT', 0.007988569),\n",
       " ('R_avg_opp_GROUND_att', 0.00791892),\n",
       " ('B_avg_BODY_landed', 0.007882829),\n",
       " ('B_avg_SIG_STR_pct', 0.007815362),\n",
       " ('R_avg_opp_BODY_att', 0.0078097754),\n",
       " ('weight_class_Featherweight', 0.007676531),\n",
       " ('B_avg_opp_TOTAL_STR_att', 0.0076357694),\n",
       " ('B_win_by_Submission', 0.0076286006),\n",
       " ('R_Reach_cms', 0.007586555),\n",
       " ('R_avg_opp_SIG_STR_landed', 0.007578695),\n",
       " ('B_win_by_Decision_Unanimous', 0.007538752),\n",
       " ('B_losses', 0.0075115464),\n",
       " ('R_avg_opp_KD', 0.0074446457),\n",
       " ('R_total_title_bouts', 0.0074321735),\n",
       " ('B_avg_SUB_ATT', 0.0074060815),\n",
       " ('R_avg_opp_TD_pct', 0.007349662),\n",
       " ('R_avg_SIG_STR_landed', 0.0073438454),\n",
       " ('R_avg_opp_REV', 0.007331905),\n",
       " ('R_avg_opp_LEG_landed', 0.007323797),\n",
       " ('B_avg_CLINCH_att', 0.0072981208),\n",
       " ('R_avg_REV', 0.0072764093),\n",
       " ('B_avg_opp_TD_att', 0.007234546),\n",
       " ('B_avg_opp_GROUND_landed', 0.007162883),\n",
       " ('B_avg_TD_att', 0.0070740585),\n",
       " ('B_avg_opp_GROUND_att', 0.007046243),\n",
       " ('B_avg_opp_TD_pct', 0.006964887),\n",
       " ('B_avg_opp_BODY_att', 0.006951138),\n",
       " ('B_avg_TOTAL_STR_landed', 0.0068878224),\n",
       " ('B_avg_GROUND_att', 0.0068434705),\n",
       " ('R_avg_TD_att', 0.006751105),\n",
       " ('R_avg_BODY_landed', 0.0067506386),\n",
       " ('B_avg_opp_SIG_STR_pct', 0.006645175),\n",
       " ('B_avg_LEG_landed', 0.0065387073),\n",
       " ('B_avg_TD_pct', 0.006528801),\n",
       " ('R_avg_opp_CTRL_time(seconds)', 0.0064456966),\n",
       " ('R_avg_TOTAL_STR_att', 0.006333197),\n",
       " ('R_avg_TOTAL_STR_landed', 0.006316263),\n",
       " ('R_avg_opp_CLINCH_landed', 0.0062951343),\n",
       " ('B_total_time_fought(seconds)', 0.0062732142),\n",
       " ('B_avg_CTRL_time(seconds)', 0.006253219),\n",
       " ('R_avg_HEAD_landed', 0.0061947596),\n",
       " ('weight_class_Welterweight', 0.0061751567),\n",
       " ('B_avg_opp_LEG_att', 0.0061604357),\n",
       " ('B_avg_CLINCH_landed', 0.0061572874),\n",
       " ('B_avg_opp_CLINCH_landed', 0.0061360043),\n",
       " ('R_avg_opp_GROUND_landed', 0.00609197),\n",
       " ('R_avg_opp_LEG_att', 0.006053207),\n",
       " ('B_avg_SIG_STR_landed', 0.0060479906),\n",
       " ('R_avg_SIG_STR_att', 0.0059899436),\n",
       " ('R_win_by_Submission', 0.005950757),\n",
       " ('B_avg_opp_CTRL_time(seconds)', 0.0058856523),\n",
       " ('B_avg_opp_SUB_ATT', 0.0058428184),\n",
       " ('R_avg_opp_TD_att', 0.005818433),\n",
       " ('R_avg_LEG_landed', 0.005803231),\n",
       " ('R_avg_opp_BODY_landed', 0.0057504196),\n",
       " ('R_avg_LEG_att', 0.005737261),\n",
       " ('B_avg_opp_LEG_landed', 0.0056919144),\n",
       " ('R_longest_win_streak', 0.0055511314),\n",
       " ('R_avg_BODY_att', 0.005490912),\n",
       " ('R_Stance_Orthodox', 0.0054595517),\n",
       " ('R_avg_opp_TD_landed', 0.0054193954),\n",
       " ('R_avg_HEAD_att', 0.005390655),\n",
       " ('R_avg_DISTANCE_landed', 0.0052550584),\n",
       " ('B_avg_GROUND_landed', 0.005220586),\n",
       " ('R_avg_opp_TOTAL_STR_att', 0.0050133197),\n",
       " ('R_avg_CLINCH_landed', 0.0049119745),\n",
       " ('B_avg_KD', 0.0049062213),\n",
       " ('R_avg_opp_CLINCH_att', 0.004903148),\n",
       " ('B_avg_opp_CLINCH_att', 0.004691433),\n",
       " ('B_avg_opp_KD', 0.0045279055),\n",
       " ('B_Height_cms', 0.0044719),\n",
       " ('B_avg_opp_TD_landed', 0.0044052145),\n",
       " ('B_avg_opp_DISTANCE_landed', 0.0043797195),\n",
       " ('B_avg_REV', 0.004279754),\n",
       " ('B_avg_opp_REV', 0.0042756777),\n",
       " ('B_win_by_KO/TKO', 0.0042598564),\n",
       " ('R_avg_SIG_STR_pct', 0.0042597866),\n",
       " ('R_total_rounds_fought', 0.004236827),\n",
       " ('B_avg_TOTAL_STR_att', 0.0042082947),\n",
       " ('R_avg_DISTANCE_att', 0.0041748695),\n",
       " ('R_avg_CTRL_time(seconds)', 0.004048758),\n",
       " ('weight_class_Heavyweight', 0.0040330878),\n",
       " ('R_Height_cms', 0.0035874324),\n",
       " ('R_avg_opp_SIG_STR_att', 0.0030365258),\n",
       " ('weight_class_Light Heavyweight', 0.0023052196),\n",
       " ('R_wins', 0.0022906286),\n",
       " ('B_wins', 0.0019313224),\n",
       " ('title_bout', 0.0),\n",
       " ('B_current_win_streak', 0.0),\n",
       " ('B_current_lose_streak', 0.0),\n",
       " ('B_draw', 0.0),\n",
       " ('B_win_by_Decision_Majority', 0.0),\n",
       " ('B_win_by_Decision_Split', 0.0),\n",
       " ('B_win_by_TKO_Doctor_Stoppage', 0.0),\n",
       " ('R_draw', 0.0),\n",
       " ('R_win_by_Decision_Majority', 0.0),\n",
       " ('R_win_by_KO/TKO', 0.0),\n",
       " ('R_win_by_TKO_Doctor_Stoppage', 0.0),\n",
       " ('weight_class_Bantamweight', 0.0),\n",
       " ('weight_class_Catch Weight', 0.0),\n",
       " ('weight_class_Flyweight', 0.0),\n",
       " ('weight_class_Lightweight', 0.0),\n",
       " ('weight_class_Middleweight', 0.0),\n",
       " ('weight_class_Open Weight', 0.0),\n",
       " (\"weight_class_Women's Bantamweight\", 0.0),\n",
       " (\"weight_class_Women's Featherweight\", 0.0),\n",
       " (\"weight_class_Women's Flyweight\", 0.0),\n",
       " (\"weight_class_Women's Strawweight\", 0.0),\n",
       " ('B_Stance_Open Stance', 0.0),\n",
       " ('B_Stance_Sideways', 0.0),\n",
       " ('B_Stance_Southpaw', 0.0),\n",
       " ('B_Stance_Switch', 0.0),\n",
       " ('R_Stance_Open Stance', 0.0),\n",
       " ('R_Stance_Sideways', 0.0),\n",
       " ('R_Stance_Switch', 0.0)]"
      ]
     },
     "execution_count": 10,
     "metadata": {},
     "output_type": "execute_result"
    }
   ],
   "source": [
    "feat_imps = {}\n",
    "for i, imp in enumerate(model1.feature_importances_):\n",
    "    feat_imps[X_train.columns[i]] = imp\n",
    "\n",
    "sorted_imp_feats = (sorted(feat_imps.items(), key = lambda x: x[1], reverse=True))\n",
    "sorted_imp_feats"
   ]
  },
  {
   "cell_type": "markdown",
   "metadata": {},
   "source": [
    "### Since dataset is imbalanced let's try setting scale_pos_weight to see if we get an improvement"
   ]
  },
  {
   "cell_type": "code",
   "execution_count": 11,
   "metadata": {},
   "outputs": [
    {
     "name": "stdout",
     "output_type": "stream",
     "text": [
      "Best number of estimators = 37\n"
     ]
    },
    {
     "name": "stderr",
     "output_type": "stream",
     "text": [
      "/home/shreysinghal/anaconda3/lib/python3.9/site-packages/xgboost/sklearn.py:861: UserWarning: `eval_metric` in `fit` method is deprecated for better compatibility with scikit-learn, use `eval_metric` in constructor or`set_params` instead.\n",
      "  warnings.warn(\n"
     ]
    },
    {
     "name": "stdout",
     "output_type": "stream",
     "text": [
      "\n",
      "Model Report: \n",
      "Accuracy (Test): 0.6751\n",
      "AUC Score (Test): 0.7032\n"
     ]
    },
    {
     "data": {
      "image/png": "[encoded data removed]",
      "text/plain": [
       "<Figure size 432x288 with 2 Axes>"
      ]
     },
     "metadata": {
      "needs_background": "light"
     },
     "output_type": "display_data"
    }
   ],
   "source": [
    "model2 = XGBClassifier(random_state=43, n_jobs=-1, scale_pos_weight=0.7)\n",
    "\n",
    "y2_preds = modelfit(model2, X_train, y_train, X_test, y_test)\n",
    "\n",
    "cm = confusion_matrix(y_test, y2_preds)\n",
    "\n",
    "plot_confusion(cm)"
   ]
  },
  {
   "cell_type": "markdown",
   "metadata": {},
   "source": [
    "### Hyperparameter tuning "
   ]
  },
  {
   "cell_type": "code",
   "execution_count": 12,
   "metadata": {},
   "outputs": [
    {
     "name": "stdout",
     "output_type": "stream",
     "text": [
      "Best number of estimators = 94\n"
     ]
    },
    {
     "name": "stderr",
     "output_type": "stream",
     "text": [
      "/home/shreysinghal/anaconda3/lib/python3.9/site-packages/xgboost/sklearn.py:861: UserWarning: `eval_metric` in `fit` method is deprecated for better compatibility with scikit-learn, use `eval_metric` in constructor or`set_params` instead.\n",
      "  warnings.warn(\n"
     ]
    },
    {
     "name": "stdout",
     "output_type": "stream",
     "text": [
      "\n",
      "Model Report: \n",
      "Accuracy (Test): 0.7022\n",
      "AUC Score (Test): 0.7157\n"
     ]
    },
    {
     "data": {
      "image/png": "[encoded data removed]",
      "text/plain": [
       "<Figure size 432x288 with 2 Axes>"
      ]
     },
     "metadata": {
      "needs_background": "light"
     },
     "output_type": "display_data"
    }
   ],
   "source": [
    "model3 = XGBClassifier(\n",
    " learning_rate =0.1,\n",
    " n_estimators=1000,\n",
    " max_depth=5,\n",
    " min_child_weight=1,\n",
    " gamma=0,\n",
    " subsample=0.8,\n",
    " colsample_bytree=0.8,\n",
    " objective= 'binary:logistic',\n",
    " nthread=4,\n",
    " scale_pos_weight=0.75,\n",
    ")\n",
    "\n",
    "y3_preds = modelfit(model3, X_train, y_train, X_test, y_test)\n",
    "\n",
    "cm = confusion_matrix(y_test, y3_preds)\n",
    "\n",
    "plot_confusion(cm)"
   ]
  },
  {
   "cell_type": "markdown",
   "metadata": {},
   "source": [
    "### Oversampling"
   ]
  },
  {
   "cell_type": "code",
   "execution_count": 13,
   "metadata": {},
   "outputs": [],
   "source": [
    "from imblearn.over_sampling import ADASYN"
   ]
  },
  {
   "cell_type": "code",
   "execution_count": 14,
   "metadata": {},
   "outputs": [],
   "source": [
    "over_sampler = ADASYN()\n",
    "X_resampled, y_resampled = over_sampler.fit_resample(X_train, y_train)"
   ]
  },
  {
   "cell_type": "code",
   "execution_count": 15,
   "metadata": {},
   "outputs": [
    {
     "data": {
      "text/plain": [
       "1    3580\n",
       "0    3505\n",
       "dtype: int64"
      ]
     },
     "execution_count": 15,
     "metadata": {},
     "output_type": "execute_result"
    }
   ],
   "source": [
    "pd.Series(y_resampled).value_counts()"
   ]
  },
  {
   "cell_type": "code",
   "execution_count": 16,
   "metadata": {},
   "outputs": [
    {
     "name": "stdout",
     "output_type": "stream",
     "text": [
      "Best number of estimators = 100\n"
     ]
    },
    {
     "name": "stderr",
     "output_type": "stream",
     "text": [
      "/home/shreysinghal/anaconda3/lib/python3.9/site-packages/xgboost/sklearn.py:861: UserWarning: `eval_metric` in `fit` method is deprecated for better compatibility with scikit-learn, use `eval_metric` in constructor or`set_params` instead.\n",
      "  warnings.warn(\n"
     ]
    },
    {
     "name": "stdout",
     "output_type": "stream",
     "text": [
      "\n",
      "Model Report: \n",
      "Accuracy (Test): 0.6701\n",
      "AUC Score (Test): 0.7095\n"
     ]
    },
    {
     "data": {
      "image/png": "[encoded data removed]",
      "text/plain": [
       "<Figure size 432x288 with 2 Axes>"
      ]
     },
     "metadata": {
      "needs_background": "light"
     },
     "output_type": "display_data"
    }
   ],
   "source": [
    "model4 = XGBClassifier(n_jobs=-1, random_state=43)\n",
    "\n",
    "y4_preds = modelfit(model4, X_resampled, y_resampled, X_test, y_test)\n",
    "\n",
    "cm = confusion_matrix(y_test, y4_preds)\n",
    "\n",
    "plot_confusion(cm)"
   ]
  },
  {
   "cell_type": "markdown",
   "metadata": {},
   "source": [
    "### Hyperparameter tuning for the oversampled data"
   ]
  },
  {
   "cell_type": "code",
   "execution_count": 17,
   "metadata": {
    "scrolled": false
   },
   "outputs": [
    {
     "name": "stdout",
     "output_type": "stream",
     "text": [
      "Best number of estimators = 189\n"
     ]
    },
    {
     "name": "stderr",
     "output_type": "stream",
     "text": [
      "/home/shreysinghal/anaconda3/lib/python3.9/site-packages/xgboost/sklearn.py:861: UserWarning: `eval_metric` in `fit` method is deprecated for better compatibility with scikit-learn, use `eval_metric` in constructor or`set_params` instead.\n",
      "  warnings.warn(\n"
     ]
    },
    {
     "name": "stdout",
     "output_type": "stream",
     "text": [
      "\n",
      "Model Report: \n",
      "Accuracy (Test): 0.7073\n",
      "AUC Score (Test): 0.7378\n"
     ]
    },
    {
     "data": {
      "image/png": "[encoded data removed]",
      "text/plain": [
       "<Figure size 432x288 with 2 Axes>"
      ]
     },
     "metadata": {
      "needs_background": "light"
     },
     "output_type": "display_data"
    }
   ],
   "source": [
    "model5 = XGBClassifier(\n",
    " learning_rate =0.1,\n",
    " n_estimators=244,\n",
    " max_depth=5,\n",
    " min_child_weight=1,\n",
    " gamma=0,\n",
    " subsample=0.8,\n",
    " colsample_bytree=0.8,\n",
    " objective= 'binary:logistic',\n",
    " nthread=4,\n",
    " scale_pos_weight=1,\n",
    ")\n",
    "\n",
    "y5_preds = modelfit(model5, X_resampled, y_resampled, X_test, y_test)\n",
    "\n",
    "cm = confusion_matrix(y_test, y5_preds)\n",
    "\n",
    "plot_confusion(cm)"
   ]
  },
  {
   "cell_type": "code",
   "execution_count": 18,
   "metadata": {},
   "outputs": [
    {
     "name": "stderr",
     "output_type": "stream",
     "text": [
      "/home/shreysinghal/anaconda3/lib/python3.9/site-packages/xgboost/sklearn.py:861: UserWarning: `eval_metric` in `fit` method is deprecated for better compatibility with scikit-learn, use `eval_metric` in constructor or`set_params` instead.\n",
      "  warnings.warn(\n"
     ]
    },
    {
     "name": "stdout",
     "output_type": "stream",
     "text": [
      "\n",
      "Model Report: \n",
      "Accuracy (Test): 0.7107\n",
      "AUC Score (Test): 0.7326\n"
     ]
    },
    {
     "data": {
      "image/png": "[encoded data removed]",
      "text/plain": [
       "<Figure size 432x288 with 2 Axes>"
      ]
     },
     "metadata": {
      "needs_background": "light"
     },
     "output_type": "display_data"
    }
   ],
   "source": [
    "model6 = XGBClassifier(learning_rate =0.1, n_estimators=244, max_depth=4,\n",
    "                     min_child_weight=1, gamma=0.1, subsample=0.8, colsample_bytree=0.8,\n",
    "                     objective= 'binary:logistic', reg_alpha= 0, scale_pos_weight=1)\n",
    "\n",
    "y6_preds = modelfit(model6, X_resampled, y_resampled, X_test, y_test, useTrainCV=False)\n",
    "\n",
    "cm = confusion_matrix(y_test, y6_preds)\n",
    "\n",
    "plot_confusion(cm)"
   ]
  },
  {
   "cell_type": "code",
   "execution_count": 19,
   "metadata": {},
   "outputs": [],
   "source": [
    "X_os, y_os = X_resampled, y_resampled = over_sampler.fit_resample(X, label_encoded_y)"
   ]
  },
  {
   "cell_type": "code",
   "execution_count": 20,
   "metadata": {},
   "outputs": [
    {
     "name": "stdout",
     "output_type": "stream",
     "text": [
      "              precision    recall  f1-score   support\n",
      "\n",
      "           0       0.54      0.24      0.34       192\n",
      "           1       0.71      0.90      0.80       399\n",
      "\n",
      "    accuracy                           0.69       591\n",
      "   macro avg       0.63      0.57      0.57       591\n",
      "weighted avg       0.66      0.69      0.65       591\n",
      "\n"
     ]
    }
   ],
   "source": [
    "print(classification_report(y_test, y1_preds))"
   ]
  },
  {
   "cell_type": "code",
   "execution_count": 21,
   "metadata": {},
   "outputs": [
    {
     "name": "stdout",
     "output_type": "stream",
     "text": [
      "              precision    recall  f1-score   support\n",
      "\n",
      "           0       0.50      0.42      0.45       192\n",
      "           1       0.74      0.80      0.77       399\n",
      "\n",
      "    accuracy                           0.68       591\n",
      "   macro avg       0.62      0.61      0.61       591\n",
      "weighted avg       0.66      0.68      0.67       591\n",
      "\n"
     ]
    }
   ],
   "source": [
    "print(classification_report(y_test, y2_preds))"
   ]
  },
  {
   "cell_type": "code",
   "execution_count": 22,
   "metadata": {},
   "outputs": [
    {
     "name": "stdout",
     "output_type": "stream",
     "text": [
      "              precision    recall  f1-score   support\n",
      "\n",
      "           0       0.55      0.43      0.48       192\n",
      "           1       0.75      0.83      0.79       399\n",
      "\n",
      "    accuracy                           0.70       591\n",
      "   macro avg       0.65      0.63      0.64       591\n",
      "weighted avg       0.69      0.70      0.69       591\n",
      "\n"
     ]
    }
   ],
   "source": [
    "print(classification_report(y_test, y3_preds))"
   ]
  },
  {
   "cell_type": "code",
   "execution_count": 23,
   "metadata": {},
   "outputs": [
    {
     "name": "stdout",
     "output_type": "stream",
     "text": [
      "              precision    recall  f1-score   support\n",
      "\n",
      "           0       0.49      0.37      0.42       192\n",
      "           1       0.73      0.81      0.77       399\n",
      "\n",
      "    accuracy                           0.67       591\n",
      "   macro avg       0.61      0.59      0.60       591\n",
      "weighted avg       0.65      0.67      0.66       591\n",
      "\n"
     ]
    }
   ],
   "source": [
    "print(classification_report(y_test, y4_preds))"
   ]
  },
  {
   "cell_type": "code",
   "execution_count": 24,
   "metadata": {},
   "outputs": [
    {
     "name": "stdout",
     "output_type": "stream",
     "text": [
      "              precision    recall  f1-score   support\n",
      "\n",
      "           0       0.57      0.42      0.48       192\n",
      "           1       0.75      0.85      0.80       399\n",
      "\n",
      "    accuracy                           0.71       591\n",
      "   macro avg       0.66      0.63      0.64       591\n",
      "weighted avg       0.69      0.71      0.69       591\n",
      "\n"
     ]
    }
   ],
   "source": [
    "print(classification_report(y_test, y5_preds))"
   ]
  },
  {
   "cell_type": "code",
   "execution_count": 25,
   "metadata": {},
   "outputs": [
    {
     "name": "stdout",
     "output_type": "stream",
     "text": [
      "              precision    recall  f1-score   support\n",
      "\n",
      "           0       0.57      0.42      0.48       192\n",
      "           1       0.75      0.85      0.80       399\n",
      "\n",
      "    accuracy                           0.71       591\n",
      "   macro avg       0.66      0.63      0.64       591\n",
      "weighted avg       0.69      0.71      0.69       591\n",
      "\n"
     ]
    }
   ],
   "source": [
    "print(classification_report(y_test, y5_preds))"
   ]
  },
  {
   "cell_type": "code",
   "execution_count": 26,
   "metadata": {},
   "outputs": [
    {
     "name": "stdout",
     "output_type": "stream",
     "text": [
      "              precision    recall  f1-score   support\n",
      "\n",
      "           0       0.57      0.44      0.50       192\n",
      "           1       0.76      0.84      0.80       399\n",
      "\n",
      "    accuracy                           0.71       591\n",
      "   macro avg       0.66      0.64      0.65       591\n",
      "weighted avg       0.70      0.71      0.70       591\n",
      "\n"
     ]
    }
   ],
   "source": [
    "print(classification_report(y_test, y6_preds))"
   ]
  },
  {
   "cell_type": "code",
   "execution_count": 27,
   "metadata": {},
   "outputs": [
    {
     "data": {
      "text/html": [
       "<style>#sk-container-id-1 {color: black;background-color: white;}#sk-container-id-1 pre{padding: 0;}#sk-container-id-1 div.sk-toggleable {background-color: white;}#sk-container-id-1 label.sk-toggleable__label {cursor: pointer;display: block;width: 100%;margin-bottom: 0;padding: 0.3em;box-sizing: border-box;text-align: center;}#sk-container-id-1 label.sk-toggleable__label-arrow:before {content: \"▸\";float: left;margin-right: 0.25em;color: #696969;}#sk-container-id-1 label.sk-toggleable__label-arrow:hover:before {color: black;}#sk-container-id-1 div.sk-estimator:hover label.sk-toggleable__label-arrow:before {color: black;}#sk-container-id-1 div.sk-toggleable__content {max-height: 0;max-width: 0;overflow: hidden;text-align: left;background-color: #f0f8ff;}#sk-container-id-1 div.sk-toggleable__content pre {margin: 0.2em;color: black;border-radius: 0.25em;background-color: #f0f8ff;}#sk-container-id-1 input.sk-toggleable__control:checked~div.sk-toggleable__content {max-height: 200px;max-width: 100%;overflow: auto;}#sk-container-id-1 input.sk-toggleable__control:checked~label.sk-toggleable__label-arrow:before {content: \"▾\";}#sk-container-id-1 div.sk-estimator input.sk-toggleable__control:checked~label.sk-toggleable__label {background-color: #d4ebff;}#sk-container-id-1 div.sk-label input.sk-toggleable__control:checked~label.sk-toggleable__label {background-color: #d4ebff;}#sk-container-id-1 input.sk-hidden--visually {border: 0;clip: rect(1px 1px 1px 1px);clip: rect(1px, 1px, 1px, 1px);height: 1px;margin: -1px;overflow: hidden;padding: 0;position: absolute;width: 1px;}#sk-container-id-1 div.sk-estimator {font-family: monospace;background-color: #f0f8ff;border: 1px dotted black;border-radius: 0.25em;box-sizing: border-box;margin-bottom: 0.5em;}#sk-container-id-1 div.sk-estimator:hover {background-color: #d4ebff;}#sk-container-id-1 div.sk-parallel-item::after {content: \"\";width: 100%;border-bottom: 1px solid gray;flex-grow: 1;}#sk-container-id-1 div.sk-label:hover label.sk-toggleable__label {background-color: #d4ebff;}#sk-container-id-1 div.sk-serial::before {content: \"\";position: absolute;border-left: 1px solid gray;box-sizing: border-box;top: 0;bottom: 0;left: 50%;z-index: 0;}#sk-container-id-1 div.sk-serial {display: flex;flex-direction: column;align-items: center;background-color: white;padding-right: 0.2em;padding-left: 0.2em;position: relative;}#sk-container-id-1 div.sk-item {position: relative;z-index: 1;}#sk-container-id-1 div.sk-parallel {display: flex;align-items: stretch;justify-content: center;background-color: white;position: relative;}#sk-container-id-1 div.sk-item::before, #sk-container-id-1 div.sk-parallel-item::before {content: \"\";position: absolute;border-left: 1px solid gray;box-sizing: border-box;top: 0;bottom: 0;left: 50%;z-index: -1;}#sk-container-id-1 div.sk-parallel-item {display: flex;flex-direction: column;z-index: 1;position: relative;background-color: white;}#sk-container-id-1 div.sk-parallel-item:first-child::after {align-self: flex-end;width: 50%;}#sk-container-id-1 div.sk-parallel-item:last-child::after {align-self: flex-start;width: 50%;}#sk-container-id-1 div.sk-parallel-item:only-child::after {width: 0;}#sk-container-id-1 div.sk-dashed-wrapped {border: 1px dashed gray;margin: 0 0.4em 0.5em 0.4em;box-sizing: border-box;padding-bottom: 0.4em;background-color: white;}#sk-container-id-1 div.sk-label label {font-family: monospace;font-weight: bold;display: inline-block;line-height: 1.2em;}#sk-container-id-1 div.sk-label-container {text-align: center;}#sk-container-id-1 div.sk-container {/* jupyter's `normalize.less` sets `[hidden] { display: none; }` but bootstrap.min.css set `[hidden] { display: none !important; }` so we also need the `!important` here to be able to override the default hidden behavior on the sphinx rendered scikit-learn.org. See: https://github.com/scikit-learn/scikit-learn/issues/21755 */display: inline-block !important;position: relative;}#sk-container-id-1 div.sk-text-repr-fallback {display: none;}</style><div id=\"sk-container-id-1\" class=\"sk-top-container\"><div class=\"sk-text-repr-fallback\"><pre>XGBClassifier(base_score=0.5, booster=&#x27;gbtree&#x27;, callbacks=None,\n",
       "              colsample_bylevel=1, colsample_bynode=1, colsample_bytree=0.8,\n",
       "              early_stopping_rounds=None, enable_categorical=False,\n",
       "              eval_metric=None, feature_types=None, gamma=0.1, gpu_id=-1,\n",
       "              grow_policy=&#x27;depthwise&#x27;, importance_type=None,\n",
       "              interaction_constraints=&#x27;&#x27;, learning_rate=0.1, max_bin=256,\n",
       "              max_cat_threshold=64, max_cat_to_onehot=4, max_delta_step=0,\n",
       "              max_depth=4, max_leaves=0, min_child_weight=1, missing=nan,\n",
       "              monotone_constraints=&#x27;()&#x27;, n_estimators=244, n_jobs=0,\n",
       "              num_parallel_tree=1, predictor=&#x27;auto&#x27;, random_state=0, ...)</pre><b>In a Jupyter environment, please rerun this cell to show the HTML representation or trust the notebook. <br />On GitHub, the HTML representation is unable to render, please try loading this page with nbviewer.org.</b></div><div class=\"sk-container\" hidden><div class=\"sk-item\"><div class=\"sk-estimator sk-toggleable\"><input class=\"sk-toggleable__control sk-hidden--visually\" id=\"sk-estimator-id-1\" type=\"checkbox\" checked><label for=\"sk-estimator-id-1\" class=\"sk-toggleable__label sk-toggleable__label-arrow\">XGBClassifier</label><div class=\"sk-toggleable__content\"><pre>XGBClassifier(base_score=0.5, booster=&#x27;gbtree&#x27;, callbacks=None,\n",
       "              colsample_bylevel=1, colsample_bynode=1, colsample_bytree=0.8,\n",
       "              early_stopping_rounds=None, enable_categorical=False,\n",
       "              eval_metric=None, feature_types=None, gamma=0.1, gpu_id=-1,\n",
       "              grow_policy=&#x27;depthwise&#x27;, importance_type=None,\n",
       "              interaction_constraints=&#x27;&#x27;, learning_rate=0.1, max_bin=256,\n",
       "              max_cat_threshold=64, max_cat_to_onehot=4, max_delta_step=0,\n",
       "              max_depth=4, max_leaves=0, min_child_weight=1, missing=nan,\n",
       "              monotone_constraints=&#x27;()&#x27;, n_estimators=244, n_jobs=0,\n",
       "              num_parallel_tree=1, predictor=&#x27;auto&#x27;, random_state=0, ...)</pre></div></div></div></div></div>"
      ],
      "text/plain": [
       "XGBClassifier(base_score=0.5, booster='gbtree', callbacks=None,\n",
       "              colsample_bylevel=1, colsample_bynode=1, colsample_bytree=0.8,\n",
       "              early_stopping_rounds=None, enable_categorical=False,\n",
       "              eval_metric=None, feature_types=None, gamma=0.1, gpu_id=-1,\n",
       "              grow_policy='depthwise', importance_type=None,\n",
       "              interaction_constraints='', learning_rate=0.1, max_bin=256,\n",
       "              max_cat_threshold=64, max_cat_to_onehot=4, max_delta_step=0,\n",
       "              max_depth=4, max_leaves=0, min_child_weight=1, missing=nan,\n",
       "              monotone_constraints='()', n_estimators=244, n_jobs=0,\n",
       "              num_parallel_tree=1, predictor='auto', random_state=0, ...)"
      ]
     },
     "execution_count": 27,
     "metadata": {},
     "output_type": "execute_result"
    }
   ],
   "source": [
    "model = model6\n",
    "\n",
    "model.fit(np.array(X_os), np.array(y_os))"
   ]
  },
  {
   "cell_type": "code",
   "execution_count": 28,
   "metadata": {},
   "outputs": [],
   "source": [
    "with open('../data/model-new.sav', 'wb') as mdl:\n",
    "    pickle.dump(model, mdl)"
   ]
  },
  {
   "cell_type": "code",
   "execution_count": null,
   "metadata": {},
   "outputs": [],
   "source": []
  },
  {
   "cell_type": "code",
   "execution_count": null,
   "metadata": {},
   "outputs": [],
   "source": []
  }
 ],
 "metadata": {
  "kernelspec": {
   "display_name": "Python 3 (ipykernel)",
   "language": "python",
   "name": "python3"
  },
  "language_info": {
   "codemirror_mode": {
    "name": "ipython",
    "version": 3
   },
   "file_extension": ".py",
   "mimetype": "text/x-python",
   "name": "python",
   "nbconvert_exporter": "python",
   "pygments_lexer": "ipython3",
   "version": "3.9.7"
  }
 },
 "nbformat": 4,
 "nbformat_minor": 2
}
